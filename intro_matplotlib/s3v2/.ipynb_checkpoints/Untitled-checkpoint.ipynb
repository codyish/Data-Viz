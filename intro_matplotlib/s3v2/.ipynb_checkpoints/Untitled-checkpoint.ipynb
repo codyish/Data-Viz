{
 "cells": [
  {
   "cell_type": "code",
   "execution_count": 1,
   "id": "f9ae1adb",
   "metadata": {},
   "outputs": [
    {
     "ename": "ValueError",
     "evalue": "could not convert string to float: 'eruptions'",
     "output_type": "error",
     "traceback": [
      "\u001b[0;31m---------------------------------------------------------------------------\u001b[0m",
      "\u001b[0;31mValueError\u001b[0m                                Traceback (most recent call last)",
      "\u001b[0;32m<ipython-input-1-006d8472269e>\u001b[0m in \u001b[0;36m<module>\u001b[0;34m\u001b[0m\n\u001b[1;32m     17\u001b[0m \u001b[0;34m\u001b[0m\u001b[0m\n\u001b[1;32m     18\u001b[0m \u001b[0;32mfor\u001b[0m \u001b[0mevent\u001b[0m \u001b[0;32min\u001b[0m \u001b[0mrange\u001b[0m\u001b[0;34m(\u001b[0m\u001b[0;36m0\u001b[0m\u001b[0;34m,\u001b[0m \u001b[0mlen\u001b[0m\u001b[0;34m(\u001b[0m\u001b[0meruptions\u001b[0m\u001b[0;34m)\u001b[0m\u001b[0;34m-\u001b[0m\u001b[0;36m1\u001b[0m\u001b[0;34m)\u001b[0m\u001b[0;34m:\u001b[0m\u001b[0;34m\u001b[0m\u001b[0;34m\u001b[0m\u001b[0m\n\u001b[0;32m---> 19\u001b[0;31m     \u001b[0meruption_times\u001b[0m\u001b[0;34m.\u001b[0m\u001b[0mappend\u001b[0m\u001b[0;34m(\u001b[0m\u001b[0mfloat\u001b[0m\u001b[0;34m(\u001b[0m\u001b[0meruptions\u001b[0m\u001b[0;34m[\u001b[0m\u001b[0mevent\u001b[0m\u001b[0;34m]\u001b[0m\u001b[0;34m[\u001b[0m\u001b[0;36m0\u001b[0m\u001b[0;34m]\u001b[0m\u001b[0;34m)\u001b[0m\u001b[0;34m)\u001b[0m\u001b[0;34m\u001b[0m\u001b[0;34m\u001b[0m\u001b[0m\n\u001b[0m\u001b[1;32m     20\u001b[0m     \u001b[0mwaiting_times\u001b[0m\u001b[0;34m.\u001b[0m\u001b[0mappend\u001b[0m\u001b[0;34m(\u001b[0m\u001b[0mfloat\u001b[0m\u001b[0;34m(\u001b[0m\u001b[0meruptions\u001b[0m\u001b[0;34m[\u001b[0m\u001b[0mevent\u001b[0m\u001b[0;34m]\u001b[0m\u001b[0;34m[\u001b[0m\u001b[0;36m1\u001b[0m\u001b[0;34m]\u001b[0m\u001b[0;34m)\u001b[0m\u001b[0;34m)\u001b[0m\u001b[0;34m\u001b[0m\u001b[0;34m\u001b[0m\u001b[0m\n\u001b[1;32m     21\u001b[0m \u001b[0;34m\u001b[0m\u001b[0m\n",
      "\u001b[0;31mValueError\u001b[0m: could not convert string to float: 'eruptions'"
     ]
    },
    {
     "data": {
      "text/plain": [
       "<Figure size 540x306 with 0 Axes>"
      ]
     },
     "metadata": {},
     "output_type": "display_data"
    },
    {
     "data": {
      "text/plain": [
       "<Figure size 640x480 with 0 Axes>"
      ]
     },
     "metadata": {},
     "output_type": "display_data"
    }
   ],
   "source": [
    "import csv\n",
    "import matplotlib.pyplot as plt\n",
    "\n",
    "input_file = \"old_faithful.csv\"\n",
    "plt.figure(figsize=(7.5, 4.25))\n",
    "plt.style.use(\"classic\")\n",
    "\n",
    "fig = plt.figure()\n",
    "\n",
    "with open(input_file, \"r\") as old_faithful_data:\n",
    "    eruptions = list(csv.reader(old_faithful_data))\n",
    "    \n",
    "eruptions.pop(0)\n",
    "\n",
    "eruption_times = []\n",
    "waiting_times = []\n",
    "\n",
    "for event in range(0, len(eruptions)-1):\n",
    "    eruption_times.append(float(eruptions[event][0]))\n",
    "    waiting_times.append(float(eruptions[event][1]))\n",
    "    \n",
    "plt.subplot(2, 2, 1)\n",
    "plt.boxplot(eruption_times)\n",
    "plt.title(\"Ol Faithful Eruptions\")\n",
    "plt.xticks([1], [\"Eruptions\"])\n",
    "plt.xlabel(\"Length of eruption (min)\")\n",
    "\n",
    "plt.subplot(2, 2, 2)\n",
    "num_bins=8\n",
    "plt.hist(eruption_times, num_bins)\n",
    "plt.title(\"Old faithful Eruptions\")\n",
    "plt.xlabel(\"Length of Eruption (min)\")\n",
    "\n",
    "plt.subplot(2, 2, 3)\n",
    "plt.boxplot(waiting_times)\n",
    "plt.title(\"Ol Faithful waiting\")\n",
    "plt.xticks([1], [\"Waiting\"])\n",
    "plt.xlabel(\"Length of Waiting (min)\")\n",
    "\n",
    "plt.subplot(2, 2, 4)\n",
    "plt.scatter(eruption_times, waiting_times)\n",
    "plt.title(\"Old Faithful Eruption\")\n",
    "plt.xlabel(\"Length of Eruption (min)\")\n",
    "plt.ylabel(\"Time between Eruptions (min)\")\n",
    "\n",
    "plt.show()\n",
    "\n"
   ]
  },
  {
   "cell_type": "code",
   "execution_count": null,
   "id": "d0baae90",
   "metadata": {},
   "outputs": [],
   "source": []
  }
 ],
 "metadata": {
  "kernelspec": {
   "display_name": "Python 3",
   "language": "python",
   "name": "python3"
  },
  "language_info": {
   "codemirror_mode": {
    "name": "ipython",
    "version": 3
   },
   "file_extension": ".py",
   "mimetype": "text/x-python",
   "name": "python",
   "nbconvert_exporter": "python",
   "pygments_lexer": "ipython3",
   "version": "3.8.8"
  }
 },
 "nbformat": 4,
 "nbformat_minor": 5
}
