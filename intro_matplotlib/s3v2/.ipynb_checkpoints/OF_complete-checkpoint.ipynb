{
 "cells": [
  {
   "cell_type": "code",
   "execution_count": 4,
   "metadata": {},
   "outputs": [
    {
     "ename": "FileNotFoundError",
     "evalue": "[Errno 2] No such file or directory: 'old_faithful.csv'",
     "output_type": "error",
     "traceback": [
      "\u001b[0;31m---------------------------------------------------------------------------\u001b[0m",
      "\u001b[0;31mFileNotFoundError\u001b[0m                         Traceback (most recent call last)",
      "\u001b[0;32m<ipython-input-4-c742035dfdd9>\u001b[0m in \u001b[0;36m<module>\u001b[0;34m\u001b[0m\n\u001b[1;32m      8\u001b[0m \u001b[0mfig\u001b[0m \u001b[0;34m=\u001b[0m \u001b[0mplt\u001b[0m\u001b[0;34m.\u001b[0m\u001b[0mfigure\u001b[0m\u001b[0;34m(\u001b[0m\u001b[0;34m)\u001b[0m\u001b[0;34m\u001b[0m\u001b[0;34m\u001b[0m\u001b[0m\n\u001b[1;32m      9\u001b[0m \u001b[0;34m\u001b[0m\u001b[0m\n\u001b[0;32m---> 10\u001b[0;31m \u001b[0;32mwith\u001b[0m \u001b[0mopen\u001b[0m\u001b[0;34m(\u001b[0m\u001b[0minput_file\u001b[0m\u001b[0;34m,\u001b[0m \u001b[0;34m'r'\u001b[0m\u001b[0;34m)\u001b[0m \u001b[0;32mas\u001b[0m \u001b[0mold_faithful_data\u001b[0m\u001b[0;34m:\u001b[0m\u001b[0;34m\u001b[0m\u001b[0;34m\u001b[0m\u001b[0m\n\u001b[0m\u001b[1;32m     11\u001b[0m     \u001b[0meruptions\u001b[0m \u001b[0;34m=\u001b[0m \u001b[0mlist\u001b[0m\u001b[0;34m(\u001b[0m\u001b[0mcsv\u001b[0m\u001b[0;34m.\u001b[0m\u001b[0mreader\u001b[0m\u001b[0;34m(\u001b[0m\u001b[0mold_faithful_data\u001b[0m\u001b[0;34m)\u001b[0m\u001b[0;34m)\u001b[0m\u001b[0;34m\u001b[0m\u001b[0;34m\u001b[0m\u001b[0m\n\u001b[1;32m     12\u001b[0m \u001b[0;34m\u001b[0m\u001b[0m\n",
      "\u001b[0;31mFileNotFoundError\u001b[0m: [Errno 2] No such file or directory: 'old_faithful.csv'"
     ]
    },
    {
     "data": {
      "text/plain": [
       "<Figure size 600x340 with 0 Axes>"
      ]
     },
     "metadata": {},
     "output_type": "display_data"
    },
    {
     "data": {
      "text/plain": [
       "<Figure size 640x480 with 0 Axes>"
      ]
     },
     "metadata": {},
     "output_type": "display_data"
    }
   ],
   "source": [
    "import csv\n",
    "import matplotlib.pyplot as plt\n",
    "\n",
    "input_file = 'old_faithful.csv'\n",
    "plt.figure(figsize=(7.5, 4.25))\n",
    "plt.style.use('classic')\n",
    "\n",
    "fig = plt.figure()\n",
    "\n",
    "with open(input_file, 'r') as old_faithful_data:\n",
    "    eruptions = list(csv.reader(old_faithful_data))\n",
    "\n",
    "eruptions.pop(0)\n",
    "\n",
    "eruption_times = []\n",
    "waiting_times = []\n",
    "\n",
    "for event in range(0, len(eruptions)-1):\n",
    "    eruption_times.append(float(eruptions[event][0]))\n",
    "    waiting_times.append(float(eruptions[event][1]))\n",
    "\n",
    "plt.subplot(2, 2, 1)\n",
    "plt.boxplot(eruption_times)\n",
    "plt.title('Old Faithful Eruptions')\n",
    "plt.xticks([1], ['Eruptions'])\n",
    "plt.xlabel('Length of Eruption (mins)')\n",
    "\n",
    "plt.subplot(2, 2, 2)\n",
    "plt.boxplot(waiting_times)\n",
    "plt.title('Old Faithful Waiting')\n",
    "plt.xticks([1], ['Waiting'])\n",
    "plt.xlabel('Length of Waiting (mins)')\n",
    "\n",
    "plt.subplot(2, 1, 2)\n",
    "plt.scatter(eruption_times, waiting_times)\n",
    "plt.title('Old Faithful Eruptions')\n",
    "plt.xlabel('Length of Eruption (mins)')\n",
    "plt.ylabel('Time Between Eruptions (mins)')\n",
    "\n",
    "plt.tight_layout()\n",
    "\n",
    "fig.savefig('old_faithful_presentation.pdf')\n",
    "plt.show()"
   ]
  },
  {
   "cell_type": "code",
   "execution_count": null,
   "metadata": {},
   "outputs": [],
   "source": []
  },
  {
   "cell_type": "code",
   "execution_count": null,
   "metadata": {},
   "outputs": [],
   "source": []
  }
 ],
 "metadata": {
  "kernelspec": {
   "display_name": "Python 3",
   "language": "python",
   "name": "python3"
  },
  "language_info": {
   "codemirror_mode": {
    "name": "ipython",
    "version": 3
   },
   "file_extension": ".py",
   "mimetype": "text/x-python",
   "name": "python",
   "nbconvert_exporter": "python",
   "pygments_lexer": "ipython3",
   "version": "3.8.8"
  }
 },
 "nbformat": 4,
 "nbformat_minor": 4
}
