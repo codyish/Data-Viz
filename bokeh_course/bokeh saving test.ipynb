bokeh saving test

    This test will save and load a figure object to/from disk, and
    ensures that the resulting plot is the same as the original.
    """

    def test_basic(self):
        if not has_mpl:
            raise nose.SkipTest('matplotlib not available')
        p = figure()
        p.circle([1,2,3], [1,2,3])
        p.line([1,2,3], [1,2,3])
        p.patch([1,2,3], [1,2,3])
        p.rect([1,2,3], [1,2,3])
        p.square([1,2,3], [1,2,3])
        p.text([1,2,3], [1,2,3], ["foo","bar","baz"])
        p.quad(top=[1,2,3], bottom=[1,2,3], left=[1,2,3], right=[1,2,3])
        p.hexbin([1,2,3], [1,2,3])
        p.triangle([1,2,3], [1,2,3], [1,2,3])
        p.scatter([1,2,3], [1,2,3])
        p.x([1,2,3], [1,2,3])
        p.y([1,2,3], [1,2,3])
        p.xaxis.axis_label = "foobar"
        p.yaxis.axis_label = "baz"
        p.grid.grid_line_color = "red"
        p.outline_line_color = "green"
        p.toolbar_location = "left"
        p.logo = None
        p.sizing_mode = "stretch_both"
        p.min_border_right = 100
        p.min_border_left = 50
        p.min_border_bottom = 75
        p.min_border_top = 25
        p.height = 500
        p.width = 500
        p.x_range = Range1d
        